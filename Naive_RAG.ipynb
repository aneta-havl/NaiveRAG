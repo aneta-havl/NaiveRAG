{
  "cells": [
    {
      "cell_type": "markdown",
      "metadata": {
        "id": "KTm8RjWRZ95m"
      },
      "source": [
        "# Naive RAG\n",
        "\n",
        "- Below is simple application using language models to answer user question using a knowledge base.\n",
        "- Your task is to fill in contents of two functions `find_related_docs` and `answer_question`.\n",
        "- The program is based on semantic search of most similar documents in knowledge base to the user query using language model embeddings and another model that summarizes the top results to short and fluent answer.\n",
        "- We are interested in your thought process, you don't have to know how to write the code immediatelly.\n"
      ]
    },
    {
      "cell_type": "markdown",
      "metadata": {
        "id": "lxNbeqN8Z95n"
      },
      "source": [
        "# Set up"
      ]
    },
    {
      "cell_type": "code",
      "execution_count": null,
      "metadata": {
        "id": "LH12eE5PZ95n"
      },
      "outputs": [],
      "source": [
        "# Run this in case you need to install the lib in the notebook\n",
        "!pip install transformers sentence-transformers"
      ]
    },
    {
      "cell_type": "code",
      "execution_count": 62,
      "metadata": {
        "id": "R7gZAhA1Z95o"
      },
      "outputs": [],
      "source": [
        "from typing import List\n",
        "import numpy as np\n",
        "\n",
        "from sentence_transformers import SentenceTransformer, util\n",
        "from transformers import pipeline"
      ]
    },
    {
      "cell_type": "code",
      "execution_count": 63,
      "metadata": {
        "colab": {
          "base_uri": "https://localhost:8080/"
        },
        "id": "s7hMhCUqZ95o",
        "outputId": "f80258f4-499f-44c7-9470-90430950935f"
      },
      "outputs": [
        {
          "output_type": "stream",
          "name": "stdout",
          "text": [
            "initializing embedding model..\n",
            "initializing summarization model..\n"
          ]
        }
      ],
      "source": [
        "print(\"initializing embedding model..\")\n",
        "embedding_model = SentenceTransformer('sentence-transformers/multi-qa-mpnet-base-dot-v1')\n",
        "\n",
        "print(\"initializing summarization model..\")\n",
        "summarizer = pipeline(\"summarization\", model=\"philschmid/bart-large-cnn-samsum\")"
      ]
    },
    {
      "cell_type": "code",
      "execution_count": 64,
      "metadata": {
        "colab": {
          "base_uri": "https://localhost:8080/",
          "height": 66,
          "referenced_widgets": [
            "e94f5cb672f64da99126779549b7f0f1",
            "292666ce7c7b491bb4a4080a9042c5d7",
            "6993a43ce27842df9da2f5e1ae2ff5c1",
            "90b7aa8d49df4cf88adb9e56d879c26e",
            "b61039ba0db34730b9b2b5438b66e23f",
            "71713b5226c240b89dbf06ec59dd97e2",
            "aefeed4c95474fb5a33d326dfdb702b6",
            "5fbcde2157754e0897a684f855000212",
            "1d39c5276d304103be7884e880f774e5",
            "ca2f070d5a0a497a8609eef3ef49dfab",
            "5ea14867d7e04e97ba21757621b3beb5"
          ]
        },
        "id": "RqHWE53SZ95o",
        "outputId": "7240a870-df40-4b8e-dce5-a15124ea3a9d"
      },
      "outputs": [
        {
          "output_type": "stream",
          "name": "stdout",
          "text": [
            "generating document embeddings...\n"
          ]
        },
        {
          "output_type": "display_data",
          "data": {
            "text/plain": [
              "Batches:   0%|          | 0/1 [00:00<?, ?it/s]"
            ],
            "application/vnd.jupyter.widget-view+json": {
              "version_major": 2,
              "version_minor": 0,
              "model_id": "e94f5cb672f64da99126779549b7f0f1"
            }
          },
          "metadata": {}
        }
      ],
      "source": [
        "# Define the knowledge base\n",
        "knowledge_base = [\"Today is sunny weather.\",\n",
        "                  \"Pasta is traditional Italian food.\",\n",
        "                  \"I love large language models.\",\n",
        "                  \"This technical interview is extra complex.\",\n",
        "                  \"Workday is the best company and I would like to work here!\"]\n",
        "\n",
        "print(\"generating document embeddings...\")\n",
        "knowledge_base_embeddings = embedding_model.encode(knowledge_base, show_progress_bar=True)"
      ]
    },
    {
      "cell_type": "code",
      "execution_count": 65,
      "metadata": {
        "colab": {
          "base_uri": "https://localhost:8080/"
        },
        "id": "H9zBcEV7Z95o",
        "outputId": "9ad36214-77a7-4ac7-91a1-a72b1906fa84"
      },
      "outputs": [
        {
          "output_type": "stream",
          "name": "stdout",
          "text": [
            "Embedding size: (5, 768)\n",
            "Embedding example: \n"
          ]
        },
        {
          "output_type": "execute_result",
          "data": {
            "text/plain": [
              "array([[-0.28737584, -0.28308612, -0.34415117, ...,  0.09670485,\n",
              "        -0.11437837, -0.06926885],\n",
              "       [-0.3482608 , -0.14685202, -0.2589665 , ..., -0.12266742,\n",
              "        -0.04499736, -0.27315393]], dtype=float32)"
            ]
          },
          "metadata": {},
          "execution_count": 65
        }
      ],
      "source": [
        "print(f\"Embedding size: {knowledge_base_embeddings.shape}\")\n",
        "print(\"Embedding example: \")\n",
        "knowledge_base_embeddings[0:2]"
      ]
    },
    {
      "cell_type": "code",
      "source": [
        "len(knowledge_base_embeddings[0])"
      ],
      "metadata": {
        "colab": {
          "base_uri": "https://localhost:8080/"
        },
        "id": "R-1bOhDHbRDE",
        "outputId": "e54edbfa-c944-40a0-c3f8-de55d68664c2"
      },
      "execution_count": 66,
      "outputs": [
        {
          "output_type": "execute_result",
          "data": {
            "text/plain": [
              "768"
            ]
          },
          "metadata": {},
          "execution_count": 66
        }
      ]
    },
    {
      "cell_type": "markdown",
      "metadata": {
        "id": "zzpXMEThZ95o"
      },
      "source": [
        "# Part 1 - Find Relevant Sentences\n",
        "\n",
        "The goal of this task is to implement function which finds most similar documents from knowledge base to the query."
      ]
    },
    {
      "cell_type": "code",
      "execution_count": 67,
      "metadata": {
        "id": "cL4NATInZ95o"
      },
      "outputs": [],
      "source": [
        "def find_related_docs(\n",
        "    knowledge_base: List[str],\n",
        "    knowledge_base_embeddings: np.ndarray,\n",
        "    query: str,\n",
        "    number_of_matches: int,\n",
        ") -> List[str]:\n",
        "    \"\"\"\n",
        "    Find most similar documents from knowledge base\n",
        "\n",
        "    Params:\n",
        "    * knowledge_base - documents\n",
        "    * knowledge_base_embeddings - generated embeddings of knowledge_base\n",
        "    * query - sentence for which the function should return the similar one/s\n",
        "    * number_of_matches - number of most similar documents to be returned\n",
        "    \"\"\"\n",
        "\n",
        "    query_embed = embedding_model.encode(query)\n",
        "    similarities = np.dot(knowledge_base_embeddings, query_embed)\n",
        "\n",
        "    #top_indices = np.argpartition(similarities, -number_of_matches)[-number_of_matches:]\n",
        "    #top_docs = [knowledge_base[idx] for idx in top_indices]\n",
        "\n",
        "    #Combine docs & scores\n",
        "    doc_score_pairs = list(zip(knowledge_base, similarities))\n",
        "\n",
        "    #Sort by decreasing score\n",
        "    doc_score_pairs = sorted(doc_score_pairs, key=lambda x: x[1], reverse=True)\n",
        "    top_docs = [doc for doc, index in doc_score_pairs[:number_of_matches]]\n",
        "\n",
        "    return top_docs\n",
        "\n",
        "# Unit test\n",
        "expected = [\n",
        "    'Workday is the best company and I would like to work here!',\n",
        "    'This technical interview is extra complex.'\n",
        "]\n",
        "\n",
        "assert expected == find_related_docs(\n",
        "    knowledge_base,\n",
        "    knowledge_base_embeddings,\n",
        "    \"I'm currently interviewing with Workday.\",\n",
        "    2\n",
        ")"
      ]
    },
    {
      "cell_type": "markdown",
      "metadata": {
        "id": "ZBIyN3yDZ95o"
      },
      "source": [
        "# Part 2 - Summarize the Documents\n",
        "\n",
        "Using the function `find_related_docs` write a function that\n",
        "1. finds most similar documents to a use query,\n",
        "2. summarizes the answer."
      ]
    },
    {
      "cell_type": "code",
      "execution_count": 68,
      "metadata": {
        "id": "na3nBdMoZ95o",
        "colab": {
          "base_uri": "https://localhost:8080/",
          "height": 66,
          "referenced_widgets": [
            "0bc3504f806345c8b60283d8af30d882",
            "700f3290726d494cbfcb7576632c2b7c",
            "a197ca8fd850468083318470acd56f44",
            "8b93b66d8f1148d1bd78e8e5d9ac61ac",
            "e1a7021afd2447b48ec6f15c1a591426",
            "530592db58ab47d68bf2723e0723ba57",
            "9599b68287ef4a0498d0ea9ce0c1ce61",
            "c87eef5c73aa4b4f896a0076ac1a8696",
            "d34e9193b6574cd9a9fd4180094b9554",
            "7546c9746a3c4c9d945ede0af32c6909",
            "83ec426a99c549eb8a8168666a2f04d5"
          ]
        },
        "outputId": "ac8cd5c3-0ecc-47e5-e7fe-00a5fe0efca0"
      },
      "outputs": [
        {
          "output_type": "stream",
          "name": "stdout",
          "text": [
            "generating document embeddings...\n"
          ]
        },
        {
          "output_type": "display_data",
          "data": {
            "text/plain": [
              "Batches:   0%|          | 0/1 [00:00<?, ?it/s]"
            ],
            "application/vnd.jupyter.widget-view+json": {
              "version_major": 2,
              "version_minor": 0,
              "model_id": "0bc3504f806345c8b60283d8af30d882"
            }
          },
          "metadata": {}
        }
      ],
      "source": [
        "# New knowledge base more suitable to summarization\n",
        "knowledge_base = [\n",
        "    \"Workday, Inc. is a renowned company specializing in cloud-based software solutions primarily for human resources and finance. The company delivers applications related to financial management, human capital management, planning, and analytics, helping organizations to adapt and thrive in the changing business landscape. Workday’s solutions are designed to enable a range of business processes, fostering efficiency, and supporting decision-making within enterprises.\",\n",
        "    \"The company is recognized for its commitment to innovation, with a significant focus on user-friendliness and providing a seamless experience across various devices. Workday has positioned itself as a competitor to traditional enterprise resource planning (ERP) providers, offering scalable and versatile solutions that cater to the needs of both large enterprises and mid-sized businesses.\",\n",
        "    \"SAP SE is a global leader in enterprise software solutions, headquartered in Germany. The company develops software to manage business operations and customer relations seamlessly. SAP is especially known for its enterprise resource planning (ERP) software, which helps organizations integrate various business processes and functions across different departments, facilitating smoother operations and informed decision-making.\",\n",
        "    \"SAP's extensive portfolio also includes solutions in areas like human capital management, business intelligence, and supply chain management. These solutions are used by businesses of all sizes across various industries to optimize their operations and drive innovation. SAP continues to evolve its offerings, integrating advanced technologies like AI and machine learning, to meet the ever-changing needs of businesses.\",\n",
        "    \"Oracle Corporation is a multinational computer technology company that offers software, cloud solutions, hardware, and services. The company is best known for its focus on databases, but it provides a broad range of software and hardware systems and services, including its comprehensive suite of application, server, and storage solutions. Oracle’s products are designed to help businesses improve their operational efficiency, innovate faster, and improve their bottom line.\",\n",
        "    \"In addition to its flagship product, Oracle Database, the company has a diverse portfolio of applications, platforms, and infrastructure solutions. Oracle’s cloud services and license support segment offer a variety of cloud-based and license support services, including Oracle Cloud Services and SaaS applications. The company's solutions serve the needs of a diverse clientele, ranging from small businesses to the largest global enterprises.\"\n",
        "]\n",
        "\n",
        "print(\"generating document embeddings...\")\n",
        "knowledge_base_embeddings = embedding_model.encode(knowledge_base, show_progress_bar=True)"
      ]
    },
    {
      "cell_type": "code",
      "execution_count": 81,
      "metadata": {
        "id": "5JupLOKUZ95o"
      },
      "outputs": [],
      "source": [
        "def answer_question(\n",
        "    knowledge_base: List[str],\n",
        "    knowledge_base_embeddings: np.ndarray,\n",
        "    query: str,\n",
        ") -> str:\n",
        "    \"\"\"\n",
        "    Answer user question defined in query using the knowledge base.\n",
        "\n",
        "    Params:\n",
        "    * knowledge_base - documents\n",
        "    * knowledge_base_embeddings - generated embeddings of knowledge_base\n",
        "    * query - question that should be summarized using knowledge from available documents\n",
        "    \"\"\"\n",
        "\n",
        "    top_docs = find_related_docs(\n",
        "        knowledge_base,\n",
        "        knowledge_base_embeddings,\n",
        "        query,\n",
        "        3\n",
        "    )\n",
        "\n",
        "    final_answer = summarizer(' '.join(top_docs))[0][\"summary_text\"]\n",
        "\n",
        "    ###########################################\n",
        "    ########### Write your code here  #########\n",
        "    ###########################################\n",
        "\n",
        "    return final_answer\n",
        "\n",
        "\n",
        "result = answer_question(\n",
        "    knowledge_base,\n",
        "    knowledge_base_embeddings,\n",
        "    \"What do you know about Workday?\"\n",
        ")\n",
        "assert str == type(result)\n",
        "assert \"Workday\" in result"
      ]
    },
    {
      "cell_type": "code",
      "source": [
        "result"
      ],
      "metadata": {
        "colab": {
          "base_uri": "https://localhost:8080/",
          "height": 70
        },
        "id": "uUcMYzs7qMTc",
        "outputId": "217118b9-4ff0-4b51-b6a9-2d34720ab320"
      },
      "execution_count": 82,
      "outputs": [
        {
          "output_type": "execute_result",
          "data": {
            "text/plain": [
              "'Workday, Inc. is a renowned company that provides cloud-based software solutions for human resources and finance. Workday has positioned itself as a competitor to traditional ERP providers. Oracle Corporation is a multinational computer technology company that offers software, cloud solutions, hardware, and services.'"
            ],
            "application/vnd.google.colaboratory.intrinsic+json": {
              "type": "string"
            }
          },
          "metadata": {},
          "execution_count": 82
        }
      ]
    }
  ],
  "metadata": {
    "kernelspec": {
      "display_name": "transfomers-venv",
      "language": "python",
      "name": "transfomers-venv"
    },
    "language_info": {
      "codemirror_mode": {
        "name": "ipython",
        "version": 3
      },
      "file_extension": ".py",
      "mimetype": "text/x-python",
      "name": "python",
      "nbconvert_exporter": "python",
      "pygments_lexer": "ipython3",
      "version": "3.8.12"
    },
    "orig_nbformat": 4,
    "colab": {
      "provenance": [],
      "toc_visible": true
    },
    "widgets": {
      "application/vnd.jupyter.widget-state+json": {
        "e94f5cb672f64da99126779549b7f0f1": {
          "model_module": "@jupyter-widgets/controls",
          "model_name": "HBoxModel",
          "model_module_version": "1.5.0",
          "state": {
            "_dom_classes": [],
            "_model_module": "@jupyter-widgets/controls",
            "_model_module_version": "1.5.0",
            "_model_name": "HBoxModel",
            "_view_count": null,
            "_view_module": "@jupyter-widgets/controls",
            "_view_module_version": "1.5.0",
            "_view_name": "HBoxView",
            "box_style": "",
            "children": [
              "IPY_MODEL_292666ce7c7b491bb4a4080a9042c5d7",
              "IPY_MODEL_6993a43ce27842df9da2f5e1ae2ff5c1",
              "IPY_MODEL_90b7aa8d49df4cf88adb9e56d879c26e"
            ],
            "layout": "IPY_MODEL_b61039ba0db34730b9b2b5438b66e23f"
          }
        },
        "292666ce7c7b491bb4a4080a9042c5d7": {
          "model_module": "@jupyter-widgets/controls",
          "model_name": "HTMLModel",
          "model_module_version": "1.5.0",
          "state": {
            "_dom_classes": [],
            "_model_module": "@jupyter-widgets/controls",
            "_model_module_version": "1.5.0",
            "_model_name": "HTMLModel",
            "_view_count": null,
            "_view_module": "@jupyter-widgets/controls",
            "_view_module_version": "1.5.0",
            "_view_name": "HTMLView",
            "description": "",
            "description_tooltip": null,
            "layout": "IPY_MODEL_71713b5226c240b89dbf06ec59dd97e2",
            "placeholder": "​",
            "style": "IPY_MODEL_aefeed4c95474fb5a33d326dfdb702b6",
            "value": "Batches: 100%"
          }
        },
        "6993a43ce27842df9da2f5e1ae2ff5c1": {
          "model_module": "@jupyter-widgets/controls",
          "model_name": "FloatProgressModel",
          "model_module_version": "1.5.0",
          "state": {
            "_dom_classes": [],
            "_model_module": "@jupyter-widgets/controls",
            "_model_module_version": "1.5.0",
            "_model_name": "FloatProgressModel",
            "_view_count": null,
            "_view_module": "@jupyter-widgets/controls",
            "_view_module_version": "1.5.0",
            "_view_name": "ProgressView",
            "bar_style": "success",
            "description": "",
            "description_tooltip": null,
            "layout": "IPY_MODEL_5fbcde2157754e0897a684f855000212",
            "max": 1,
            "min": 0,
            "orientation": "horizontal",
            "style": "IPY_MODEL_1d39c5276d304103be7884e880f774e5",
            "value": 1
          }
        },
        "90b7aa8d49df4cf88adb9e56d879c26e": {
          "model_module": "@jupyter-widgets/controls",
          "model_name": "HTMLModel",
          "model_module_version": "1.5.0",
          "state": {
            "_dom_classes": [],
            "_model_module": "@jupyter-widgets/controls",
            "_model_module_version": "1.5.0",
            "_model_name": "HTMLModel",
            "_view_count": null,
            "_view_module": "@jupyter-widgets/controls",
            "_view_module_version": "1.5.0",
            "_view_name": "HTMLView",
            "description": "",
            "description_tooltip": null,
            "layout": "IPY_MODEL_ca2f070d5a0a497a8609eef3ef49dfab",
            "placeholder": "​",
            "style": "IPY_MODEL_5ea14867d7e04e97ba21757621b3beb5",
            "value": " 1/1 [00:00&lt;00:00,  1.28it/s]"
          }
        },
        "b61039ba0db34730b9b2b5438b66e23f": {
          "model_module": "@jupyter-widgets/base",
          "model_name": "LayoutModel",
          "model_module_version": "1.2.0",
          "state": {
            "_model_module": "@jupyter-widgets/base",
            "_model_module_version": "1.2.0",
            "_model_name": "LayoutModel",
            "_view_count": null,
            "_view_module": "@jupyter-widgets/base",
            "_view_module_version": "1.2.0",
            "_view_name": "LayoutView",
            "align_content": null,
            "align_items": null,
            "align_self": null,
            "border": null,
            "bottom": null,
            "display": null,
            "flex": null,
            "flex_flow": null,
            "grid_area": null,
            "grid_auto_columns": null,
            "grid_auto_flow": null,
            "grid_auto_rows": null,
            "grid_column": null,
            "grid_gap": null,
            "grid_row": null,
            "grid_template_areas": null,
            "grid_template_columns": null,
            "grid_template_rows": null,
            "height": null,
            "justify_content": null,
            "justify_items": null,
            "left": null,
            "margin": null,
            "max_height": null,
            "max_width": null,
            "min_height": null,
            "min_width": null,
            "object_fit": null,
            "object_position": null,
            "order": null,
            "overflow": null,
            "overflow_x": null,
            "overflow_y": null,
            "padding": null,
            "right": null,
            "top": null,
            "visibility": null,
            "width": null
          }
        },
        "71713b5226c240b89dbf06ec59dd97e2": {
          "model_module": "@jupyter-widgets/base",
          "model_name": "LayoutModel",
          "model_module_version": "1.2.0",
          "state": {
            "_model_module": "@jupyter-widgets/base",
            "_model_module_version": "1.2.0",
            "_model_name": "LayoutModel",
            "_view_count": null,
            "_view_module": "@jupyter-widgets/base",
            "_view_module_version": "1.2.0",
            "_view_name": "LayoutView",
            "align_content": null,
            "align_items": null,
            "align_self": null,
            "border": null,
            "bottom": null,
            "display": null,
            "flex": null,
            "flex_flow": null,
            "grid_area": null,
            "grid_auto_columns": null,
            "grid_auto_flow": null,
            "grid_auto_rows": null,
            "grid_column": null,
            "grid_gap": null,
            "grid_row": null,
            "grid_template_areas": null,
            "grid_template_columns": null,
            "grid_template_rows": null,
            "height": null,
            "justify_content": null,
            "justify_items": null,
            "left": null,
            "margin": null,
            "max_height": null,
            "max_width": null,
            "min_height": null,
            "min_width": null,
            "object_fit": null,
            "object_position": null,
            "order": null,
            "overflow": null,
            "overflow_x": null,
            "overflow_y": null,
            "padding": null,
            "right": null,
            "top": null,
            "visibility": null,
            "width": null
          }
        },
        "aefeed4c95474fb5a33d326dfdb702b6": {
          "model_module": "@jupyter-widgets/controls",
          "model_name": "DescriptionStyleModel",
          "model_module_version": "1.5.0",
          "state": {
            "_model_module": "@jupyter-widgets/controls",
            "_model_module_version": "1.5.0",
            "_model_name": "DescriptionStyleModel",
            "_view_count": null,
            "_view_module": "@jupyter-widgets/base",
            "_view_module_version": "1.2.0",
            "_view_name": "StyleView",
            "description_width": ""
          }
        },
        "5fbcde2157754e0897a684f855000212": {
          "model_module": "@jupyter-widgets/base",
          "model_name": "LayoutModel",
          "model_module_version": "1.2.0",
          "state": {
            "_model_module": "@jupyter-widgets/base",
            "_model_module_version": "1.2.0",
            "_model_name": "LayoutModel",
            "_view_count": null,
            "_view_module": "@jupyter-widgets/base",
            "_view_module_version": "1.2.0",
            "_view_name": "LayoutView",
            "align_content": null,
            "align_items": null,
            "align_self": null,
            "border": null,
            "bottom": null,
            "display": null,
            "flex": null,
            "flex_flow": null,
            "grid_area": null,
            "grid_auto_columns": null,
            "grid_auto_flow": null,
            "grid_auto_rows": null,
            "grid_column": null,
            "grid_gap": null,
            "grid_row": null,
            "grid_template_areas": null,
            "grid_template_columns": null,
            "grid_template_rows": null,
            "height": null,
            "justify_content": null,
            "justify_items": null,
            "left": null,
            "margin": null,
            "max_height": null,
            "max_width": null,
            "min_height": null,
            "min_width": null,
            "object_fit": null,
            "object_position": null,
            "order": null,
            "overflow": null,
            "overflow_x": null,
            "overflow_y": null,
            "padding": null,
            "right": null,
            "top": null,
            "visibility": null,
            "width": null
          }
        },
        "1d39c5276d304103be7884e880f774e5": {
          "model_module": "@jupyter-widgets/controls",
          "model_name": "ProgressStyleModel",
          "model_module_version": "1.5.0",
          "state": {
            "_model_module": "@jupyter-widgets/controls",
            "_model_module_version": "1.5.0",
            "_model_name": "ProgressStyleModel",
            "_view_count": null,
            "_view_module": "@jupyter-widgets/base",
            "_view_module_version": "1.2.0",
            "_view_name": "StyleView",
            "bar_color": null,
            "description_width": ""
          }
        },
        "ca2f070d5a0a497a8609eef3ef49dfab": {
          "model_module": "@jupyter-widgets/base",
          "model_name": "LayoutModel",
          "model_module_version": "1.2.0",
          "state": {
            "_model_module": "@jupyter-widgets/base",
            "_model_module_version": "1.2.0",
            "_model_name": "LayoutModel",
            "_view_count": null,
            "_view_module": "@jupyter-widgets/base",
            "_view_module_version": "1.2.0",
            "_view_name": "LayoutView",
            "align_content": null,
            "align_items": null,
            "align_self": null,
            "border": null,
            "bottom": null,
            "display": null,
            "flex": null,
            "flex_flow": null,
            "grid_area": null,
            "grid_auto_columns": null,
            "grid_auto_flow": null,
            "grid_auto_rows": null,
            "grid_column": null,
            "grid_gap": null,
            "grid_row": null,
            "grid_template_areas": null,
            "grid_template_columns": null,
            "grid_template_rows": null,
            "height": null,
            "justify_content": null,
            "justify_items": null,
            "left": null,
            "margin": null,
            "max_height": null,
            "max_width": null,
            "min_height": null,
            "min_width": null,
            "object_fit": null,
            "object_position": null,
            "order": null,
            "overflow": null,
            "overflow_x": null,
            "overflow_y": null,
            "padding": null,
            "right": null,
            "top": null,
            "visibility": null,
            "width": null
          }
        },
        "5ea14867d7e04e97ba21757621b3beb5": {
          "model_module": "@jupyter-widgets/controls",
          "model_name": "DescriptionStyleModel",
          "model_module_version": "1.5.0",
          "state": {
            "_model_module": "@jupyter-widgets/controls",
            "_model_module_version": "1.5.0",
            "_model_name": "DescriptionStyleModel",
            "_view_count": null,
            "_view_module": "@jupyter-widgets/base",
            "_view_module_version": "1.2.0",
            "_view_name": "StyleView",
            "description_width": ""
          }
        },
        "0bc3504f806345c8b60283d8af30d882": {
          "model_module": "@jupyter-widgets/controls",
          "model_name": "HBoxModel",
          "model_module_version": "1.5.0",
          "state": {
            "_dom_classes": [],
            "_model_module": "@jupyter-widgets/controls",
            "_model_module_version": "1.5.0",
            "_model_name": "HBoxModel",
            "_view_count": null,
            "_view_module": "@jupyter-widgets/controls",
            "_view_module_version": "1.5.0",
            "_view_name": "HBoxView",
            "box_style": "",
            "children": [
              "IPY_MODEL_700f3290726d494cbfcb7576632c2b7c",
              "IPY_MODEL_a197ca8fd850468083318470acd56f44",
              "IPY_MODEL_8b93b66d8f1148d1bd78e8e5d9ac61ac"
            ],
            "layout": "IPY_MODEL_e1a7021afd2447b48ec6f15c1a591426"
          }
        },
        "700f3290726d494cbfcb7576632c2b7c": {
          "model_module": "@jupyter-widgets/controls",
          "model_name": "HTMLModel",
          "model_module_version": "1.5.0",
          "state": {
            "_dom_classes": [],
            "_model_module": "@jupyter-widgets/controls",
            "_model_module_version": "1.5.0",
            "_model_name": "HTMLModel",
            "_view_count": null,
            "_view_module": "@jupyter-widgets/controls",
            "_view_module_version": "1.5.0",
            "_view_name": "HTMLView",
            "description": "",
            "description_tooltip": null,
            "layout": "IPY_MODEL_530592db58ab47d68bf2723e0723ba57",
            "placeholder": "​",
            "style": "IPY_MODEL_9599b68287ef4a0498d0ea9ce0c1ce61",
            "value": "Batches: 100%"
          }
        },
        "a197ca8fd850468083318470acd56f44": {
          "model_module": "@jupyter-widgets/controls",
          "model_name": "FloatProgressModel",
          "model_module_version": "1.5.0",
          "state": {
            "_dom_classes": [],
            "_model_module": "@jupyter-widgets/controls",
            "_model_module_version": "1.5.0",
            "_model_name": "FloatProgressModel",
            "_view_count": null,
            "_view_module": "@jupyter-widgets/controls",
            "_view_module_version": "1.5.0",
            "_view_name": "ProgressView",
            "bar_style": "success",
            "description": "",
            "description_tooltip": null,
            "layout": "IPY_MODEL_c87eef5c73aa4b4f896a0076ac1a8696",
            "max": 1,
            "min": 0,
            "orientation": "horizontal",
            "style": "IPY_MODEL_d34e9193b6574cd9a9fd4180094b9554",
            "value": 1
          }
        },
        "8b93b66d8f1148d1bd78e8e5d9ac61ac": {
          "model_module": "@jupyter-widgets/controls",
          "model_name": "HTMLModel",
          "model_module_version": "1.5.0",
          "state": {
            "_dom_classes": [],
            "_model_module": "@jupyter-widgets/controls",
            "_model_module_version": "1.5.0",
            "_model_name": "HTMLModel",
            "_view_count": null,
            "_view_module": "@jupyter-widgets/controls",
            "_view_module_version": "1.5.0",
            "_view_name": "HTMLView",
            "description": "",
            "description_tooltip": null,
            "layout": "IPY_MODEL_7546c9746a3c4c9d945ede0af32c6909",
            "placeholder": "​",
            "style": "IPY_MODEL_83ec426a99c549eb8a8168666a2f04d5",
            "value": " 1/1 [00:01&lt;00:00,  1.56s/it]"
          }
        },
        "e1a7021afd2447b48ec6f15c1a591426": {
          "model_module": "@jupyter-widgets/base",
          "model_name": "LayoutModel",
          "model_module_version": "1.2.0",
          "state": {
            "_model_module": "@jupyter-widgets/base",
            "_model_module_version": "1.2.0",
            "_model_name": "LayoutModel",
            "_view_count": null,
            "_view_module": "@jupyter-widgets/base",
            "_view_module_version": "1.2.0",
            "_view_name": "LayoutView",
            "align_content": null,
            "align_items": null,
            "align_self": null,
            "border": null,
            "bottom": null,
            "display": null,
            "flex": null,
            "flex_flow": null,
            "grid_area": null,
            "grid_auto_columns": null,
            "grid_auto_flow": null,
            "grid_auto_rows": null,
            "grid_column": null,
            "grid_gap": null,
            "grid_row": null,
            "grid_template_areas": null,
            "grid_template_columns": null,
            "grid_template_rows": null,
            "height": null,
            "justify_content": null,
            "justify_items": null,
            "left": null,
            "margin": null,
            "max_height": null,
            "max_width": null,
            "min_height": null,
            "min_width": null,
            "object_fit": null,
            "object_position": null,
            "order": null,
            "overflow": null,
            "overflow_x": null,
            "overflow_y": null,
            "padding": null,
            "right": null,
            "top": null,
            "visibility": null,
            "width": null
          }
        },
        "530592db58ab47d68bf2723e0723ba57": {
          "model_module": "@jupyter-widgets/base",
          "model_name": "LayoutModel",
          "model_module_version": "1.2.0",
          "state": {
            "_model_module": "@jupyter-widgets/base",
            "_model_module_version": "1.2.0",
            "_model_name": "LayoutModel",
            "_view_count": null,
            "_view_module": "@jupyter-widgets/base",
            "_view_module_version": "1.2.0",
            "_view_name": "LayoutView",
            "align_content": null,
            "align_items": null,
            "align_self": null,
            "border": null,
            "bottom": null,
            "display": null,
            "flex": null,
            "flex_flow": null,
            "grid_area": null,
            "grid_auto_columns": null,
            "grid_auto_flow": null,
            "grid_auto_rows": null,
            "grid_column": null,
            "grid_gap": null,
            "grid_row": null,
            "grid_template_areas": null,
            "grid_template_columns": null,
            "grid_template_rows": null,
            "height": null,
            "justify_content": null,
            "justify_items": null,
            "left": null,
            "margin": null,
            "max_height": null,
            "max_width": null,
            "min_height": null,
            "min_width": null,
            "object_fit": null,
            "object_position": null,
            "order": null,
            "overflow": null,
            "overflow_x": null,
            "overflow_y": null,
            "padding": null,
            "right": null,
            "top": null,
            "visibility": null,
            "width": null
          }
        },
        "9599b68287ef4a0498d0ea9ce0c1ce61": {
          "model_module": "@jupyter-widgets/controls",
          "model_name": "DescriptionStyleModel",
          "model_module_version": "1.5.0",
          "state": {
            "_model_module": "@jupyter-widgets/controls",
            "_model_module_version": "1.5.0",
            "_model_name": "DescriptionStyleModel",
            "_view_count": null,
            "_view_module": "@jupyter-widgets/base",
            "_view_module_version": "1.2.0",
            "_view_name": "StyleView",
            "description_width": ""
          }
        },
        "c87eef5c73aa4b4f896a0076ac1a8696": {
          "model_module": "@jupyter-widgets/base",
          "model_name": "LayoutModel",
          "model_module_version": "1.2.0",
          "state": {
            "_model_module": "@jupyter-widgets/base",
            "_model_module_version": "1.2.0",
            "_model_name": "LayoutModel",
            "_view_count": null,
            "_view_module": "@jupyter-widgets/base",
            "_view_module_version": "1.2.0",
            "_view_name": "LayoutView",
            "align_content": null,
            "align_items": null,
            "align_self": null,
            "border": null,
            "bottom": null,
            "display": null,
            "flex": null,
            "flex_flow": null,
            "grid_area": null,
            "grid_auto_columns": null,
            "grid_auto_flow": null,
            "grid_auto_rows": null,
            "grid_column": null,
            "grid_gap": null,
            "grid_row": null,
            "grid_template_areas": null,
            "grid_template_columns": null,
            "grid_template_rows": null,
            "height": null,
            "justify_content": null,
            "justify_items": null,
            "left": null,
            "margin": null,
            "max_height": null,
            "max_width": null,
            "min_height": null,
            "min_width": null,
            "object_fit": null,
            "object_position": null,
            "order": null,
            "overflow": null,
            "overflow_x": null,
            "overflow_y": null,
            "padding": null,
            "right": null,
            "top": null,
            "visibility": null,
            "width": null
          }
        },
        "d34e9193b6574cd9a9fd4180094b9554": {
          "model_module": "@jupyter-widgets/controls",
          "model_name": "ProgressStyleModel",
          "model_module_version": "1.5.0",
          "state": {
            "_model_module": "@jupyter-widgets/controls",
            "_model_module_version": "1.5.0",
            "_model_name": "ProgressStyleModel",
            "_view_count": null,
            "_view_module": "@jupyter-widgets/base",
            "_view_module_version": "1.2.0",
            "_view_name": "StyleView",
            "bar_color": null,
            "description_width": ""
          }
        },
        "7546c9746a3c4c9d945ede0af32c6909": {
          "model_module": "@jupyter-widgets/base",
          "model_name": "LayoutModel",
          "model_module_version": "1.2.0",
          "state": {
            "_model_module": "@jupyter-widgets/base",
            "_model_module_version": "1.2.0",
            "_model_name": "LayoutModel",
            "_view_count": null,
            "_view_module": "@jupyter-widgets/base",
            "_view_module_version": "1.2.0",
            "_view_name": "LayoutView",
            "align_content": null,
            "align_items": null,
            "align_self": null,
            "border": null,
            "bottom": null,
            "display": null,
            "flex": null,
            "flex_flow": null,
            "grid_area": null,
            "grid_auto_columns": null,
            "grid_auto_flow": null,
            "grid_auto_rows": null,
            "grid_column": null,
            "grid_gap": null,
            "grid_row": null,
            "grid_template_areas": null,
            "grid_template_columns": null,
            "grid_template_rows": null,
            "height": null,
            "justify_content": null,
            "justify_items": null,
            "left": null,
            "margin": null,
            "max_height": null,
            "max_width": null,
            "min_height": null,
            "min_width": null,
            "object_fit": null,
            "object_position": null,
            "order": null,
            "overflow": null,
            "overflow_x": null,
            "overflow_y": null,
            "padding": null,
            "right": null,
            "top": null,
            "visibility": null,
            "width": null
          }
        },
        "83ec426a99c549eb8a8168666a2f04d5": {
          "model_module": "@jupyter-widgets/controls",
          "model_name": "DescriptionStyleModel",
          "model_module_version": "1.5.0",
          "state": {
            "_model_module": "@jupyter-widgets/controls",
            "_model_module_version": "1.5.0",
            "_model_name": "DescriptionStyleModel",
            "_view_count": null,
            "_view_module": "@jupyter-widgets/base",
            "_view_module_version": "1.2.0",
            "_view_name": "StyleView",
            "description_width": ""
          }
        }
      }
    }
  },
  "nbformat": 4,
  "nbformat_minor": 0
}